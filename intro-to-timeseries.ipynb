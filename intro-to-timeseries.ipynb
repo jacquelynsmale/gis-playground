{
 "cells": [
  {
   "cell_type": "markdown",
   "source": [
    "# Introduction to Time Series\n",
    "seeds for an interesting notebook for the ASF OPERA services. "
   ],
   "metadata": {
    "collapsed": false
   },
   "id": "67e52c3b3008c4d2"
  },
  {
   "cell_type": "code",
   "outputs": [],
   "source": [
    "from arcgis.gis import GIS\n",
    "gis = GIS()\n",
    "\n",
    "from arcgis.raster import ImageryLayer\n",
    "rtc_vv_url = 'https://gis.asf.alaska.edu/arcgis/rest/services/ASF_S1/ASF_S1_RTC_VV/ImageServer'\n",
    "rtc_vh_url = 'https://gis.asf.alaska.edu/arcgis/rest/services/ASF_S1/ASF_S1_RTC_VH/ImageServer'\n",
    "rtc_vv = ImageryLayer(rtc_vv_url)\n",
    "rtc_vv"
   ],
   "metadata": {
    "collapsed": false
   },
   "id": "f5bf2aeaa7981c03"
  },
  {
   "cell_type": "code",
   "outputs": [],
   "source": [
    "for fn in rtc_vv.properties.rasterFunctionInfos:\n",
    "    print(fn['name'])"
   ],
   "metadata": {
    "collapsed": false
   },
   "id": "20256edcb3c30f91"
  },
  {
   "cell_type": "code",
   "outputs": [],
   "source": [
    "sp_ref = rtc_vv.properties.spatialReference\n",
    "print(sp_ref)"
   ],
   "metadata": {
    "collapsed": false
   },
   "id": "2b0a376f17e1c19"
  },
  {
   "cell_type": "code",
   "outputs": [],
   "source": [
    "ak_map = gis.map(\"Alaska\", zoomlevel=8)\n",
    "ak_map.add_layer(rtc_vv)"
   ],
   "metadata": {
    "collapsed": false
   },
   "id": "553f51fd16305b5"
  },
  {
   "cell_type": "code",
   "outputs": [],
   "source": [
    "from arcgis.features import FeatureLayer, FeatureLayerCollection\n",
    "\n",
    "river_polygons_url = 'https://services8.arcgis.com/diBaqFfnSXvEvVxy/arcgis/rest/services/RTC_Processing_Areas/FeatureServer'\n",
    "river_polygons = FeatureLayerCollection(river_polygons_url)\n",
    "river_zones = river_polygons.layers[0]\n",
    "query_zones = river_zones.query(where='Name IS NOT NULL', \n",
    "                                    out_fields='Name')\n",
    "river_zone_features = query_zones.features\n",
    "for river in river_zone_features: \n",
    "    print(river.attributes)\n",
    "ak_map.add_layer(river_zones)"
   ],
   "metadata": {
    "collapsed": false
   },
   "id": "c3fcd09f7b48f986"
  },
  {
   "cell_type": "code",
   "outputs": [],
   "source": [
    "map2 = gis.map(\"Thayer\", zoomlevel=10)\n",
    "map2.center = [36.49, -90.5]"
   ],
   "metadata": {
    "collapsed": false
   },
   "id": "dd9448da69c9958e"
  },
  {
   "cell_type": "code",
   "outputs": [],
   "source": [
    "vv_time1 = rtc_vv.filter_by(where=\"OBJECTID=19463\")\n",
    "map2.add_layer(vv_time1)"
   ],
   "metadata": {
    "collapsed": false
   },
   "id": "675de6fe0f5d8079"
  },
  {
   "cell_type": "code",
   "outputs": [],
   "source": [
    "vv_time2 = rtc_vv.filter_by(where=\"OBJECTID=18231\")\n",
    "map2.add_layer(vv_time2)"
   ],
   "metadata": {
    "collapsed": false
   },
   "id": "960df08d76dcb506"
  },
  {
   "cell_type": "code",
   "outputs": [],
   "source": [
    "from arcgis.raster.functions import arithmetic\n",
    "# operation type 2 is subtract\n",
    "diff = arithmetic(raster1=vv_time1, raster2=vv_time2, operation_type=2)\n",
    "map2.add_layer(diff)"
   ],
   "metadata": {
    "collapsed": false
   },
   "id": "8d447c35149432c9"
  },
  {
   "cell_type": "code",
   "outputs": [],
   "source": [
    "from arcgis.raster.functions import stretch\n",
    "color_diff = stretch(diff, stretch_type=4, dra=1, colorramp='Prediction')\n",
    "map2.add_layer(color_diff)"
   ],
   "metadata": {
    "collapsed": false
   },
   "id": "9d5d12df42612945"
  },
  {
   "cell_type": "code",
   "outputs": [],
   "source": [
    "#from arcgis.raster.functions import classify\n",
    "#class_diff(raster1=diff, raster2=None, classifier_definition=None)"
   ],
   "metadata": {
    "collapsed": false
   },
   "id": "38cf97594760947b"
  },
  {
   "cell_type": "code",
   "outputs": [],
   "source": [
    "map2.draw('rectangle')"
   ],
   "metadata": {
    "collapsed": false
   },
   "id": "26b133caf0305223"
  }
 ],
 "metadata": {
  "kernelspec": {
   "display_name": "Python 3",
   "language": "python",
   "name": "python3"
  },
  "language_info": {
   "codemirror_mode": {
    "name": "ipython",
    "version": 2
   },
   "file_extension": ".py",
   "mimetype": "text/x-python",
   "name": "python",
   "nbconvert_exporter": "python",
   "pygments_lexer": "ipython2",
   "version": "2.7.6"
  }
 },
 "nbformat": 4,
 "nbformat_minor": 5
}
